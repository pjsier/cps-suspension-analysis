{
 "cells": [
  {
   "cell_type": "code",
   "execution_count": 26,
   "metadata": {
    "collapsed": false
   },
   "outputs": [],
   "source": [
    "import numpy as np\n",
    "import pandas as pd\n",
    "import matplotlib.pyplot as plt\n",
    "from geopandas import GeoDataFrame, GeoSeries\n",
    "from geopandas.tools import sjoin\n",
    "import pysal\n",
    "%matplotlib inline"
   ]
  },
  {
   "cell_type": "code",
   "execution_count": 2,
   "metadata": {
    "collapsed": false
   },
   "outputs": [
    {
     "data": {
      "text/html": [
       "<div>\n",
       "<table border=\"1\" class=\"dataframe\">\n",
       "  <thead>\n",
       "    <tr style=\"text-align: right;\">\n",
       "      <th></th>\n",
       "      <th>Unnamed: 0</th>\n",
       "      <th>School Year</th>\n",
       "      <th>School ID</th>\n",
       "      <th>School Name</th>\n",
       "      <th>Homeroom</th>\n",
       "      <th>Count of Suspension Events</th>\n",
       "      <th>Dummy Room number to remove names</th>\n",
       "      <th>Original Homeroom</th>\n",
       "    </tr>\n",
       "  </thead>\n",
       "  <tbody>\n",
       "    <tr>\n",
       "      <th>0</th>\n",
       "      <td>0</td>\n",
       "      <td>2010-2011</td>\n",
       "      <td>400018</td>\n",
       "      <td>AUSTIN BUS &amp; ENTRP CONTR HS</td>\n",
       "      <td>A101</td>\n",
       "      <td>*</td>\n",
       "      <td>NaN</td>\n",
       "      <td>A101</td>\n",
       "    </tr>\n",
       "    <tr>\n",
       "      <th>1</th>\n",
       "      <td>1</td>\n",
       "      <td>2010-2011</td>\n",
       "      <td>400018</td>\n",
       "      <td>AUSTIN BUS &amp; ENTRP CONTR HS</td>\n",
       "      <td>A102</td>\n",
       "      <td>*</td>\n",
       "      <td>NaN</td>\n",
       "      <td>A102</td>\n",
       "    </tr>\n",
       "    <tr>\n",
       "      <th>2</th>\n",
       "      <td>2</td>\n",
       "      <td>2010-2011</td>\n",
       "      <td>400022</td>\n",
       "      <td>CHGO ARTS CONTR HS</td>\n",
       "      <td>A103</td>\n",
       "      <td>*</td>\n",
       "      <td>NaN</td>\n",
       "      <td>A103</td>\n",
       "    </tr>\n",
       "    <tr>\n",
       "      <th>3</th>\n",
       "      <td>3</td>\n",
       "      <td>2010-2011</td>\n",
       "      <td>400040</td>\n",
       "      <td>FRAZIER CONTR</td>\n",
       "      <td>A104</td>\n",
       "      <td>*</td>\n",
       "      <td>NaN</td>\n",
       "      <td>A104</td>\n",
       "    </tr>\n",
       "    <tr>\n",
       "      <th>4</th>\n",
       "      <td>4</td>\n",
       "      <td>2010-2011</td>\n",
       "      <td>400043</td>\n",
       "      <td>HOPE CONTR ES</td>\n",
       "      <td>A110</td>\n",
       "      <td>*</td>\n",
       "      <td>NaN</td>\n",
       "      <td>A110</td>\n",
       "    </tr>\n",
       "    <tr>\n",
       "      <th>5</th>\n",
       "      <td>5</td>\n",
       "      <td>2010-2011</td>\n",
       "      <td>400068</td>\n",
       "      <td>PLATO CONTR</td>\n",
       "      <td>A201</td>\n",
       "      <td>*</td>\n",
       "      <td>NaN</td>\n",
       "      <td>A201</td>\n",
       "    </tr>\n",
       "    <tr>\n",
       "      <th>6</th>\n",
       "      <td>6</td>\n",
       "      <td>2010-2011</td>\n",
       "      <td>400091</td>\n",
       "      <td>CHGO ADV CONTR HS</td>\n",
       "      <td>A202</td>\n",
       "      <td>*</td>\n",
       "      <td>NaN</td>\n",
       "      <td>A202</td>\n",
       "    </tr>\n",
       "    <tr>\n",
       "      <th>7</th>\n",
       "      <td>7</td>\n",
       "      <td>2010-2011</td>\n",
       "      <td>400095</td>\n",
       "      <td>GARFIELD PARK CONTR</td>\n",
       "      <td>A203</td>\n",
       "      <td>*</td>\n",
       "      <td>NaN</td>\n",
       "      <td>A203</td>\n",
       "    </tr>\n",
       "    <tr>\n",
       "      <th>8</th>\n",
       "      <td>8</td>\n",
       "      <td>2010-2011</td>\n",
       "      <td>400095</td>\n",
       "      <td>GARFIELD PARK CONTR</td>\n",
       "      <td>A210</td>\n",
       "      <td>*</td>\n",
       "      <td>NaN</td>\n",
       "      <td>A210</td>\n",
       "    </tr>\n",
       "    <tr>\n",
       "      <th>9</th>\n",
       "      <td>9</td>\n",
       "      <td>2010-2011</td>\n",
       "      <td>400095</td>\n",
       "      <td>GARFIELD PARK CONTR</td>\n",
       "      <td>A301</td>\n",
       "      <td>*</td>\n",
       "      <td>NaN</td>\n",
       "      <td>A301</td>\n",
       "    </tr>\n",
       "  </tbody>\n",
       "</table>\n",
       "</div>"
      ],
      "text/plain": [
       "   Unnamed: 0 School Year  School ID                  School Name Homeroom  \\\n",
       "0           0   2010-2011     400018  AUSTIN BUS & ENTRP CONTR HS     A101   \n",
       "1           1   2010-2011     400018  AUSTIN BUS & ENTRP CONTR HS     A102   \n",
       "2           2   2010-2011     400022           CHGO ARTS CONTR HS     A103   \n",
       "3           3   2010-2011     400040                FRAZIER CONTR     A104   \n",
       "4           4   2010-2011     400043                HOPE CONTR ES     A110   \n",
       "5           5   2010-2011     400068                  PLATO CONTR     A201   \n",
       "6           6   2010-2011     400091            CHGO ADV CONTR HS     A202   \n",
       "7           7   2010-2011     400095          GARFIELD PARK CONTR     A203   \n",
       "8           8   2010-2011     400095          GARFIELD PARK CONTR     A210   \n",
       "9           9   2010-2011     400095          GARFIELD PARK CONTR     A301   \n",
       "\n",
       "  Count of Suspension Events  Dummy Room number to remove names  \\\n",
       "0                          *                                NaN   \n",
       "1                          *                                NaN   \n",
       "2                          *                                NaN   \n",
       "3                          *                                NaN   \n",
       "4                          *                                NaN   \n",
       "5                          *                                NaN   \n",
       "6                          *                                NaN   \n",
       "7                          *                                NaN   \n",
       "8                          *                                NaN   \n",
       "9                          *                                NaN   \n",
       "\n",
       "  Original Homeroom  \n",
       "0              A101  \n",
       "1              A102  \n",
       "2              A103  \n",
       "3              A104  \n",
       "4              A110  \n",
       "5              A201  \n",
       "6              A202  \n",
       "7              A203  \n",
       "8              A210  \n",
       "9              A301  "
      ]
     },
     "execution_count": 2,
     "metadata": {},
     "output_type": "execute_result"
    }
   ],
   "source": [
    "# Load in data across all years, rough analysis\n",
    "suspensions_df = pd.read_csv(\"suspension_data/cps_suspension_homeroom.csv\")\n",
    "suspensions_df[:10]"
   ]
  },
  {
   "cell_type": "code",
   "execution_count": 3,
   "metadata": {
    "collapsed": false
   },
   "outputs": [
    {
     "data": {
      "text/plain": [
       "32507    3425.0\n",
       "32506    2892.0\n",
       "32505    2310.0\n",
       "32504    2219.0\n",
       "32503    1614.0\n",
       "32502    1526.0\n",
       "32501    1483.0\n",
       "32500    1402.0\n",
       "32499    1387.0\n",
       "32498    1346.0\n",
       "Name: Count of Suspension Events, dtype: float64"
      ]
     },
     "execution_count": 3,
     "metadata": {},
     "output_type": "execute_result"
    }
   ],
   "source": [
    "suspensions_df[\"Count of Suspension Events\"] = pd.to_numeric(suspensions_df[\"Count of Suspension Events\"], errors='coerce')\n",
    "suspensions_df[\"Count of Suspension Events\"].fillna(0, inplace=True)\n",
    "suspensions_df[\"Count of Suspension Events\"].sort_values(ascending=False)[:10]"
   ]
  },
  {
   "cell_type": "code",
   "execution_count": 4,
   "metadata": {
    "collapsed": false
   },
   "outputs": [
    {
     "data": {
      "text/plain": [
       "Network                         object\n",
       "School ID                        int64\n",
       "Education Units                 object\n",
       "Total                           object\n",
       "White No                        object\n",
       "White Pct                      float64\n",
       "African American No             object\n",
       "African American Pct           float64\n",
       "Asian/Pac Islander No            int64\n",
       "Asian/Pac Islander Pct         float64\n",
       "Native American/Alaskan No       int64\n",
       "Native American/Alaskan Pct    float64\n",
       "Hispanic No                     object\n",
       "Hispanic Pct                   float64\n",
       "Multi-Racial No                  int64\n",
       "Multi-Racial Pct               float64\n",
       "Asian No                         int64\n",
       "Asian Pct                      float64\n",
       "Hawaiian Pac Islander No         int64\n",
       "Hawaiian Pac Islander Pct      float64\n",
       "Na No                            int64\n",
       "Na Pct                         float64\n",
       "Unnamed: 22                    float64\n",
       "Unnamed: 23                    float64\n",
       "Unnamed: 24                    float64\n",
       "dtype: object"
      ]
     },
     "execution_count": 4,
     "metadata": {},
     "output_type": "execute_result"
    }
   ],
   "source": [
    "# Only joining to 2014-2015 school year race data, rough initial exploration\n",
    "cps_race_data = pd.read_csv(\"race_data/cps_race_data_1415.csv\")\n",
    "cps_race_data.dtypes"
   ]
  },
  {
   "cell_type": "code",
   "execution_count": 5,
   "metadata": {
    "collapsed": false
   },
   "outputs": [
    {
     "data": {
      "text/html": [
       "<div>\n",
       "<table border=\"1\" class=\"dataframe\">\n",
       "  <thead>\n",
       "    <tr style=\"text-align: right;\">\n",
       "      <th></th>\n",
       "      <th>Unnamed: 0</th>\n",
       "      <th>School Year</th>\n",
       "      <th>School ID</th>\n",
       "      <th>School Name</th>\n",
       "      <th>Homeroom</th>\n",
       "      <th>Count of Suspension Events</th>\n",
       "      <th>Dummy Room number to remove names</th>\n",
       "      <th>Original Homeroom</th>\n",
       "      <th>Network</th>\n",
       "      <th>Education Units</th>\n",
       "      <th>...</th>\n",
       "      <th>Multi-Racial Pct</th>\n",
       "      <th>Asian No</th>\n",
       "      <th>Asian Pct</th>\n",
       "      <th>Hawaiian Pac Islander No</th>\n",
       "      <th>Hawaiian Pac Islander Pct</th>\n",
       "      <th>Na No</th>\n",
       "      <th>Na Pct</th>\n",
       "      <th>Unnamed: 22</th>\n",
       "      <th>Unnamed: 23</th>\n",
       "      <th>Unnamed: 24</th>\n",
       "    </tr>\n",
       "  </thead>\n",
       "  <tbody>\n",
       "    <tr>\n",
       "      <th>0</th>\n",
       "      <td>0</td>\n",
       "      <td>2010-2011</td>\n",
       "      <td>400018</td>\n",
       "      <td>AUSTIN BUS &amp; ENTRP CONTR HS</td>\n",
       "      <td>A101</td>\n",
       "      <td>0.0</td>\n",
       "      <td>NaN</td>\n",
       "      <td>A101</td>\n",
       "      <td>Network 3</td>\n",
       "      <td>AUSTIN BUS &amp; ENTRP HS</td>\n",
       "      <td>...</td>\n",
       "      <td>1.0</td>\n",
       "      <td>0</td>\n",
       "      <td>0.0</td>\n",
       "      <td>0</td>\n",
       "      <td>0.0</td>\n",
       "      <td>0</td>\n",
       "      <td>0.0</td>\n",
       "      <td>NaN</td>\n",
       "      <td>NaN</td>\n",
       "      <td>NaN</td>\n",
       "    </tr>\n",
       "    <tr>\n",
       "      <th>1</th>\n",
       "      <td>1</td>\n",
       "      <td>2010-2011</td>\n",
       "      <td>400018</td>\n",
       "      <td>AUSTIN BUS &amp; ENTRP CONTR HS</td>\n",
       "      <td>A102</td>\n",
       "      <td>0.0</td>\n",
       "      <td>NaN</td>\n",
       "      <td>A102</td>\n",
       "      <td>Network 3</td>\n",
       "      <td>AUSTIN BUS &amp; ENTRP HS</td>\n",
       "      <td>...</td>\n",
       "      <td>1.0</td>\n",
       "      <td>0</td>\n",
       "      <td>0.0</td>\n",
       "      <td>0</td>\n",
       "      <td>0.0</td>\n",
       "      <td>0</td>\n",
       "      <td>0.0</td>\n",
       "      <td>NaN</td>\n",
       "      <td>NaN</td>\n",
       "      <td>NaN</td>\n",
       "    </tr>\n",
       "    <tr>\n",
       "      <th>2</th>\n",
       "      <td>2813</td>\n",
       "      <td>2012-2013</td>\n",
       "      <td>400018</td>\n",
       "      <td>AUSTIN BUS &amp; ENTRP HS</td>\n",
       "      <td>A303</td>\n",
       "      <td>0.0</td>\n",
       "      <td>NaN</td>\n",
       "      <td>A303</td>\n",
       "      <td>Network 3</td>\n",
       "      <td>AUSTIN BUS &amp; ENTRP HS</td>\n",
       "      <td>...</td>\n",
       "      <td>1.0</td>\n",
       "      <td>0</td>\n",
       "      <td>0.0</td>\n",
       "      <td>0</td>\n",
       "      <td>0.0</td>\n",
       "      <td>0</td>\n",
       "      <td>0.0</td>\n",
       "      <td>NaN</td>\n",
       "      <td>NaN</td>\n",
       "      <td>NaN</td>\n",
       "    </tr>\n",
       "    <tr>\n",
       "      <th>3</th>\n",
       "      <td>5434</td>\n",
       "      <td>2014-2015</td>\n",
       "      <td>400018</td>\n",
       "      <td>AUSTIN BUS &amp; ENTRP HS</td>\n",
       "      <td>NaN</td>\n",
       "      <td>0.0</td>\n",
       "      <td>NaN</td>\n",
       "      <td>NaN</td>\n",
       "      <td>Network 3</td>\n",
       "      <td>AUSTIN BUS &amp; ENTRP HS</td>\n",
       "      <td>...</td>\n",
       "      <td>1.0</td>\n",
       "      <td>0</td>\n",
       "      <td>0.0</td>\n",
       "      <td>0</td>\n",
       "      <td>0.0</td>\n",
       "      <td>0</td>\n",
       "      <td>0.0</td>\n",
       "      <td>NaN</td>\n",
       "      <td>NaN</td>\n",
       "      <td>NaN</td>\n",
       "    </tr>\n",
       "    <tr>\n",
       "      <th>4</th>\n",
       "      <td>5435</td>\n",
       "      <td>2014-2015</td>\n",
       "      <td>400018</td>\n",
       "      <td>AUSTIN BUS &amp; ENTRP HS</td>\n",
       "      <td>A118</td>\n",
       "      <td>0.0</td>\n",
       "      <td>NaN</td>\n",
       "      <td>A118</td>\n",
       "      <td>Network 3</td>\n",
       "      <td>AUSTIN BUS &amp; ENTRP HS</td>\n",
       "      <td>...</td>\n",
       "      <td>1.0</td>\n",
       "      <td>0</td>\n",
       "      <td>0.0</td>\n",
       "      <td>0</td>\n",
       "      <td>0.0</td>\n",
       "      <td>0</td>\n",
       "      <td>0.0</td>\n",
       "      <td>NaN</td>\n",
       "      <td>NaN</td>\n",
       "      <td>NaN</td>\n",
       "    </tr>\n",
       "    <tr>\n",
       "      <th>5</th>\n",
       "      <td>6821</td>\n",
       "      <td>2010-2011</td>\n",
       "      <td>400018</td>\n",
       "      <td>AUSTIN BUS &amp; ENTRP CONTR HS</td>\n",
       "      <td>A120</td>\n",
       "      <td>0.0</td>\n",
       "      <td>NaN</td>\n",
       "      <td>A120</td>\n",
       "      <td>Network 3</td>\n",
       "      <td>AUSTIN BUS &amp; ENTRP HS</td>\n",
       "      <td>...</td>\n",
       "      <td>1.0</td>\n",
       "      <td>0</td>\n",
       "      <td>0.0</td>\n",
       "      <td>0</td>\n",
       "      <td>0.0</td>\n",
       "      <td>0</td>\n",
       "      <td>0.0</td>\n",
       "      <td>NaN</td>\n",
       "      <td>NaN</td>\n",
       "      <td>NaN</td>\n",
       "    </tr>\n",
       "    <tr>\n",
       "      <th>6</th>\n",
       "      <td>6822</td>\n",
       "      <td>2010-2011</td>\n",
       "      <td>400018</td>\n",
       "      <td>AUSTIN BUS &amp; ENTRP CONTR HS</td>\n",
       "      <td>A316</td>\n",
       "      <td>0.0</td>\n",
       "      <td>NaN</td>\n",
       "      <td>A316</td>\n",
       "      <td>Network 3</td>\n",
       "      <td>AUSTIN BUS &amp; ENTRP HS</td>\n",
       "      <td>...</td>\n",
       "      <td>1.0</td>\n",
       "      <td>0</td>\n",
       "      <td>0.0</td>\n",
       "      <td>0</td>\n",
       "      <td>0.0</td>\n",
       "      <td>0</td>\n",
       "      <td>0.0</td>\n",
       "      <td>NaN</td>\n",
       "      <td>NaN</td>\n",
       "      <td>NaN</td>\n",
       "    </tr>\n",
       "    <tr>\n",
       "      <th>7</th>\n",
       "      <td>6823</td>\n",
       "      <td>2010-2011</td>\n",
       "      <td>400018</td>\n",
       "      <td>AUSTIN BUS &amp; ENTRP CONTR HS</td>\n",
       "      <td>A318</td>\n",
       "      <td>0.0</td>\n",
       "      <td>NaN</td>\n",
       "      <td>A318</td>\n",
       "      <td>Network 3</td>\n",
       "      <td>AUSTIN BUS &amp; ENTRP HS</td>\n",
       "      <td>...</td>\n",
       "      <td>1.0</td>\n",
       "      <td>0</td>\n",
       "      <td>0.0</td>\n",
       "      <td>0</td>\n",
       "      <td>0.0</td>\n",
       "      <td>0</td>\n",
       "      <td>0.0</td>\n",
       "      <td>NaN</td>\n",
       "      <td>NaN</td>\n",
       "      <td>NaN</td>\n",
       "    </tr>\n",
       "    <tr>\n",
       "      <th>8</th>\n",
       "      <td>6824</td>\n",
       "      <td>2010-2011</td>\n",
       "      <td>400018</td>\n",
       "      <td>AUSTIN BUS &amp; ENTRP CONTR HS</td>\n",
       "      <td>A319</td>\n",
       "      <td>0.0</td>\n",
       "      <td>NaN</td>\n",
       "      <td>A319</td>\n",
       "      <td>Network 3</td>\n",
       "      <td>AUSTIN BUS &amp; ENTRP HS</td>\n",
       "      <td>...</td>\n",
       "      <td>1.0</td>\n",
       "      <td>0</td>\n",
       "      <td>0.0</td>\n",
       "      <td>0</td>\n",
       "      <td>0.0</td>\n",
       "      <td>0</td>\n",
       "      <td>0.0</td>\n",
       "      <td>NaN</td>\n",
       "      <td>NaN</td>\n",
       "      <td>NaN</td>\n",
       "    </tr>\n",
       "    <tr>\n",
       "      <th>9</th>\n",
       "      <td>11127</td>\n",
       "      <td>2010-2011</td>\n",
       "      <td>400018</td>\n",
       "      <td>AUSTIN BUS &amp; ENTRP CONTR HS</td>\n",
       "      <td>A022</td>\n",
       "      <td>0.0</td>\n",
       "      <td>NaN</td>\n",
       "      <td>A022</td>\n",
       "      <td>Network 3</td>\n",
       "      <td>AUSTIN BUS &amp; ENTRP HS</td>\n",
       "      <td>...</td>\n",
       "      <td>1.0</td>\n",
       "      <td>0</td>\n",
       "      <td>0.0</td>\n",
       "      <td>0</td>\n",
       "      <td>0.0</td>\n",
       "      <td>0</td>\n",
       "      <td>0.0</td>\n",
       "      <td>NaN</td>\n",
       "      <td>NaN</td>\n",
       "      <td>NaN</td>\n",
       "    </tr>\n",
       "  </tbody>\n",
       "</table>\n",
       "<p>10 rows × 32 columns</p>\n",
       "</div>"
      ],
      "text/plain": [
       "   Unnamed: 0 School Year  School ID                  School Name Homeroom  \\\n",
       "0           0   2010-2011     400018  AUSTIN BUS & ENTRP CONTR HS     A101   \n",
       "1           1   2010-2011     400018  AUSTIN BUS & ENTRP CONTR HS     A102   \n",
       "2        2813   2012-2013     400018        AUSTIN BUS & ENTRP HS     A303   \n",
       "3        5434   2014-2015     400018        AUSTIN BUS & ENTRP HS      NaN   \n",
       "4        5435   2014-2015     400018        AUSTIN BUS & ENTRP HS     A118   \n",
       "5        6821   2010-2011     400018  AUSTIN BUS & ENTRP CONTR HS     A120   \n",
       "6        6822   2010-2011     400018  AUSTIN BUS & ENTRP CONTR HS     A316   \n",
       "7        6823   2010-2011     400018  AUSTIN BUS & ENTRP CONTR HS     A318   \n",
       "8        6824   2010-2011     400018  AUSTIN BUS & ENTRP CONTR HS     A319   \n",
       "9       11127   2010-2011     400018  AUSTIN BUS & ENTRP CONTR HS     A022   \n",
       "\n",
       "   Count of Suspension Events  Dummy Room number to remove names  \\\n",
       "0                         0.0                                NaN   \n",
       "1                         0.0                                NaN   \n",
       "2                         0.0                                NaN   \n",
       "3                         0.0                                NaN   \n",
       "4                         0.0                                NaN   \n",
       "5                         0.0                                NaN   \n",
       "6                         0.0                                NaN   \n",
       "7                         0.0                                NaN   \n",
       "8                         0.0                                NaN   \n",
       "9                         0.0                                NaN   \n",
       "\n",
       "  Original Homeroom    Network        Education Units     ...      \\\n",
       "0              A101  Network 3  AUSTIN BUS & ENTRP HS     ...       \n",
       "1              A102  Network 3  AUSTIN BUS & ENTRP HS     ...       \n",
       "2              A303  Network 3  AUSTIN BUS & ENTRP HS     ...       \n",
       "3               NaN  Network 3  AUSTIN BUS & ENTRP HS     ...       \n",
       "4              A118  Network 3  AUSTIN BUS & ENTRP HS     ...       \n",
       "5              A120  Network 3  AUSTIN BUS & ENTRP HS     ...       \n",
       "6              A316  Network 3  AUSTIN BUS & ENTRP HS     ...       \n",
       "7              A318  Network 3  AUSTIN BUS & ENTRP HS     ...       \n",
       "8              A319  Network 3  AUSTIN BUS & ENTRP HS     ...       \n",
       "9              A022  Network 3  AUSTIN BUS & ENTRP HS     ...       \n",
       "\n",
       "  Multi-Racial Pct Asian No  Asian Pct Hawaiian Pac Islander No  \\\n",
       "0              1.0        0        0.0                        0   \n",
       "1              1.0        0        0.0                        0   \n",
       "2              1.0        0        0.0                        0   \n",
       "3              1.0        0        0.0                        0   \n",
       "4              1.0        0        0.0                        0   \n",
       "5              1.0        0        0.0                        0   \n",
       "6              1.0        0        0.0                        0   \n",
       "7              1.0        0        0.0                        0   \n",
       "8              1.0        0        0.0                        0   \n",
       "9              1.0        0        0.0                        0   \n",
       "\n",
       "   Hawaiian Pac Islander Pct  Na No  Na Pct  Unnamed: 22  Unnamed: 23  \\\n",
       "0                        0.0      0     0.0          NaN          NaN   \n",
       "1                        0.0      0     0.0          NaN          NaN   \n",
       "2                        0.0      0     0.0          NaN          NaN   \n",
       "3                        0.0      0     0.0          NaN          NaN   \n",
       "4                        0.0      0     0.0          NaN          NaN   \n",
       "5                        0.0      0     0.0          NaN          NaN   \n",
       "6                        0.0      0     0.0          NaN          NaN   \n",
       "7                        0.0      0     0.0          NaN          NaN   \n",
       "8                        0.0      0     0.0          NaN          NaN   \n",
       "9                        0.0      0     0.0          NaN          NaN   \n",
       "\n",
       "  Unnamed: 24  \n",
       "0         NaN  \n",
       "1         NaN  \n",
       "2         NaN  \n",
       "3         NaN  \n",
       "4         NaN  \n",
       "5         NaN  \n",
       "6         NaN  \n",
       "7         NaN  \n",
       "8         NaN  \n",
       "9         NaN  \n",
       "\n",
       "[10 rows x 32 columns]"
      ]
     },
     "execution_count": 5,
     "metadata": {},
     "output_type": "execute_result"
    }
   ],
   "source": [
    "# Merge suspensions to race data\n",
    "suspension_race_merge = pd.merge(suspensions_df, cps_race_data, on=\"School ID\")\n",
    "suspension_race_merge[:10]"
   ]
  },
  {
   "cell_type": "code",
   "execution_count": 6,
   "metadata": {
    "collapsed": false
   },
   "outputs": [
    {
     "data": {
      "text/plain": [
       "18805    84.0\n",
       "18792    84.0\n",
       "18804    84.0\n",
       "18803    84.0\n",
       "18802    84.0\n",
       "18801    84.0\n",
       "18800    84.0\n",
       "18799    84.0\n",
       "18797    84.0\n",
       "18796    84.0\n",
       "Name: White Pct, dtype: float64"
      ]
     },
     "execution_count": 6,
     "metadata": {},
     "output_type": "execute_result"
    }
   ],
   "source": [
    "white_pct_desc = suspension_race_merge.sort_values([\"White Pct\"], ascending=[False])\n",
    "white_pct_desc[\"White Pct\"][:10]"
   ]
  },
  {
   "cell_type": "code",
   "execution_count": 7,
   "metadata": {
    "collapsed": false
   },
   "outputs": [
    {
     "data": {
      "text/html": [
       "<div>\n",
       "<table border=\"1\" class=\"dataframe\">\n",
       "  <thead>\n",
       "    <tr style=\"text-align: right;\">\n",
       "      <th></th>\n",
       "      <th>Count of Suspension Events</th>\n",
       "      <th>Education Units</th>\n",
       "      <th>Original Homeroom</th>\n",
       "    </tr>\n",
       "  </thead>\n",
       "  <tbody>\n",
       "    <tr>\n",
       "      <th>2649</th>\n",
       "      <td>3425.0</td>\n",
       "      <td>FENGER HS</td>\n",
       "      <td>OM Engl</td>\n",
       "    </tr>\n",
       "    <tr>\n",
       "      <th>23857</th>\n",
       "      <td>2892.0</td>\n",
       "      <td>BOWEN HS</td>\n",
       "      <td>Wieting</td>\n",
       "    </tr>\n",
       "    <tr>\n",
       "      <th>2288</th>\n",
       "      <td>2310.0</td>\n",
       "      <td>BOGAN HS</td>\n",
       "      <td>Dworak</td>\n",
       "    </tr>\n",
       "    <tr>\n",
       "      <th>23856</th>\n",
       "      <td>2219.0</td>\n",
       "      <td>BOWEN HS</td>\n",
       "      <td>MG100</td>\n",
       "    </tr>\n",
       "    <tr>\n",
       "      <th>23855</th>\n",
       "      <td>1614.0</td>\n",
       "      <td>BOWEN HS</td>\n",
       "      <td>905</td>\n",
       "    </tr>\n",
       "    <tr>\n",
       "      <th>24951</th>\n",
       "      <td>1526.0</td>\n",
       "      <td>ORR HS</td>\n",
       "      <td>904</td>\n",
       "    </tr>\n",
       "    <tr>\n",
       "      <th>2648</th>\n",
       "      <td>1483.0</td>\n",
       "      <td>FENGER HS</td>\n",
       "      <td>903</td>\n",
       "    </tr>\n",
       "    <tr>\n",
       "      <th>2647</th>\n",
       "      <td>1402.0</td>\n",
       "      <td>FENGER HS</td>\n",
       "      <td>902</td>\n",
       "    </tr>\n",
       "    <tr>\n",
       "      <th>4896</th>\n",
       "      <td>1387.0</td>\n",
       "      <td>MANLEY HS</td>\n",
       "      <td>901</td>\n",
       "    </tr>\n",
       "    <tr>\n",
       "      <th>66</th>\n",
       "      <td>1346.0</td>\n",
       "      <td>AUSTIN BUS &amp; ENTRP HS</td>\n",
       "      <td>808</td>\n",
       "    </tr>\n",
       "  </tbody>\n",
       "</table>\n",
       "</div>"
      ],
      "text/plain": [
       "       Count of Suspension Events        Education Units Original Homeroom\n",
       "2649                       3425.0              FENGER HS           OM Engl\n",
       "23857                      2892.0               BOWEN HS           Wieting\n",
       "2288                       2310.0               BOGAN HS            Dworak\n",
       "23856                      2219.0               BOWEN HS             MG100\n",
       "23855                      1614.0               BOWEN HS               905\n",
       "24951                      1526.0                 ORR HS               904\n",
       "2648                       1483.0              FENGER HS               903\n",
       "2647                       1402.0              FENGER HS               902\n",
       "4896                       1387.0              MANLEY HS               901\n",
       "66                         1346.0  AUSTIN BUS & ENTRP HS               808"
      ]
     },
     "execution_count": 7,
     "metadata": {},
     "output_type": "execute_result"
    }
   ],
   "source": [
    "# Sort merged values by suspensions descending\n",
    "suspension_race_merge.sort_values([\"Count of Suspension Events\"], ascending=[False], inplace=True)\n",
    "suspension_race_merge[[\"Count of Suspension Events\", \"Education Units\", \"Original Homeroom\"]][:10]"
   ]
  },
  {
   "cell_type": "code",
   "execution_count": 8,
   "metadata": {
    "collapsed": false
   },
   "outputs": [
    {
     "data": {
      "text/plain": [
       "Education Units\n",
       "STEINMETZ HS    13448.0\n",
       "ORR HS          12746.0\n",
       "DUNBAR HS       12403.0\n",
       "BOWEN HS        10710.0\n",
       "FENGER HS       10047.0\n",
       "JULIAN HS        9552.0\n",
       "FARRAGUT HS      8345.0\n",
       "HYDE PARK HS     7883.0\n",
       "HARLAN HS        7551.0\n",
       "PHILLIPS HS      7539.0\n",
       "Name: Count of Suspension Events, dtype: float64"
      ]
     },
     "execution_count": 8,
     "metadata": {},
     "output_type": "execute_result"
    }
   ],
   "source": [
    "suspensions_by_school = suspension_race_merge.groupby([\"Education Units\"])\n",
    "suspensions_by_school[\"Count of Suspension Events\"].sum().sort_values(ascending=False)[:10]"
   ]
  },
  {
   "cell_type": "code",
   "execution_count": 9,
   "metadata": {
    "collapsed": false
   },
   "outputs": [
    {
     "data": {
      "text/plain": [
       "<matplotlib.collections.PathCollection at 0x7fd1d6bd9850>"
      ]
     },
     "execution_count": 9,
     "metadata": {},
     "output_type": "execute_result"
    },
    {
     "data": {
      "image/png": "[encoded data removed]",
      "text/plain": [
       "<matplotlib.figure.Figure at 0x7fd1d6d6d210>"
      ]
     },
     "metadata": {},
     "output_type": "display_data"
    }
   ],
   "source": [
    "plt.scatter(suspensions_by_school[\"African American Pct\"].mean(), suspensions_by_school[\"Count of Suspension Events\"].sum())"
   ]
  },
  {
   "cell_type": "code",
   "execution_count": 10,
   "metadata": {
    "collapsed": false
   },
   "outputs": [
    {
     "data": {
      "text/plain": [
       "<matplotlib.collections.PathCollection at 0x7fd1d6aec810>"
      ]
     },
     "execution_count": 10,
     "metadata": {},
     "output_type": "execute_result"
    },
    {
     "data": {
      "image/png": "[encoded data removed]",
      "text/plain": [
       "<matplotlib.figure.Figure at 0x7fd1d6bb11d0>"
      ]
     },
     "metadata": {},
     "output_type": "display_data"
    }
   ],
   "source": [
    "plt.scatter(suspensions_by_school[\"White Pct\"].mean(), suspensions_by_school[\"Count of Suspension Events\"].sum())"
   ]
  },
  {
   "cell_type": "code",
   "execution_count": 11,
   "metadata": {
    "collapsed": false
   },
   "outputs": [
    {
     "data": {
      "text/plain": [
       "<matplotlib.collections.PathCollection at 0x7fd1d49cb510>"
      ]
     },
     "execution_count": 11,
     "metadata": {},
     "output_type": "execute_result"
    },
    {
     "data": {
      "image/png": "[encoded data removed]",
      "text/plain": [
       "<matplotlib.figure.Figure at 0x7fd1d6aa0510>"
      ]
     },
     "metadata": {},
     "output_type": "display_data"
    }
   ],
   "source": [
    "plt.scatter(suspensions_by_school[\"Hispanic Pct\"].mean(), suspensions_by_school[\"Count of Suspension Events\"].sum())"
   ]
  },
  {
   "cell_type": "code",
   "execution_count": 12,
   "metadata": {
    "collapsed": false
   },
   "outputs": [
    {
     "data": {
      "text/plain": [
       "<matplotlib.axes._subplots.AxesSubplot at 0x7fd1d6b79810>"
      ]
     },
     "execution_count": 12,
     "metadata": {},
     "output_type": "execute_result"
    },
    {
     "data": {
      "image/png": "[encoded data removed]",
      "text/plain": [
       "<matplotlib.figure.Figure at 0x7fd1d495c690>"
      ]
     },
     "metadata": {},
     "output_type": "display_data"
    }
   ],
   "source": [
    "# Load school locations and neighborhood boundaries\n",
    "chi_neighborhoods = GeoDataFrame.from_file(\"neighborhoods/chi_neighborhoods.shp\")\n",
    "cps_schools = GeoDataFrame.from_file(\"school_locations/cps_schools_1415.shp\")\n",
    "cps_schools[\"schoolid\"] = cps_schools[\"schoolid\"].astype(int)\n",
    "cps_schools = cps_schools.to_crs(epsg=4326)\n",
    "chi_neighborhoods = chi_neighborhoods.to_crs(epsg=4326)\n",
    "chi_neighborhoods.plot()"
   ]
  },
  {
   "cell_type": "code",
   "execution_count": 13,
   "metadata": {
    "collapsed": false,
    "scrolled": true
   },
   "outputs": [
    {
     "data": {
      "text/plain": [
       "<matplotlib.axes._subplots.AxesSubplot at 0x7fd1d6b5af10>"
      ]
     },
     "execution_count": 13,
     "metadata": {},
     "output_type": "execute_result"
    },
    {
     "data": {
      "image/png": "[encoded data removed]",
      "text/plain": [
       "<matplotlib.figure.Figure at 0x7fd1d4385350>"
      ]
     },
     "metadata": {},
     "output_type": "display_data"
    }
   ],
   "source": [
    "# Merge schools to locations\n",
    "schools_by_suspension = suspension_race_merge.groupby(\"School ID\")[\"Count of Suspension Events\"].sum()\n",
    "schools_by_suspension = schools_by_suspension.reset_index()\n",
    "\n",
    "school_location_suspensions = pd.merge(cps_schools, schools_by_suspension, left_on=\"schoolid\", right_on=\"School ID\")\n",
    "school_location_suspensions.plot()"
   ]
  },
  {
   "cell_type": "code",
   "execution_count": 14,
   "metadata": {
    "collapsed": false
   },
   "outputs": [
    {
     "name": "stdout",
     "output_type": "stream",
     "text": [
      "Warning: CRS does not match!\n"
     ]
    },
    {
     "data": {
      "text/plain": [
       "<matplotlib.axes._subplots.AxesSubplot at 0x7fd1d37b5a50>"
      ]
     },
     "execution_count": 14,
     "metadata": {},
     "output_type": "execute_result"
    },
    {
     "data": {
      "image/png": "[encoded data removed]",
      "text/plain": [
       "<matplotlib.figure.Figure at 0x7fd1d37c3110>"
      ]
     },
     "metadata": {},
     "output_type": "display_data"
    }
   ],
   "source": [
    "# Join suspensions directly to neighborhoods\n",
    "neighborhood_suspensions = sjoin(chi_neighborhoods, school_location_suspensions)\n",
    "neighborhood_suspension_counts = neighborhood_suspensions.groupby(\"pri_neigh\")[\"Count of Suspension Events\"].sum()\n",
    "neighborhood_suspension_counts = neighborhood_suspension_counts.reset_index()\n",
    "neigh_counts = neighborhood_suspension_counts[[\"pri_neigh\",\"Count of Suspension Events\"]]\n",
    "neighb_suspensions = pd.merge(chi_neighborhoods, neigh_counts, on=\"pri_neigh\")\n",
    "neighb_suspensions.plot(column='Count of Suspension Events', scheme='fisher_jenks', k=7, cmap='Purples')"
   ]
  },
  {
   "cell_type": "code",
   "execution_count": 15,
   "metadata": {
    "collapsed": false
   },
   "outputs": [
    {
     "data": {
      "text/html": [
       "<div>\n",
       "<table border=\"1\" class=\"dataframe\">\n",
       "  <thead>\n",
       "    <tr style=\"text-align: right;\">\n",
       "      <th></th>\n",
       "      <th>School ID</th>\n",
       "      <th>Count of Suspension Events</th>\n",
       "      <th>White Pct</th>\n",
       "      <th>African American Pct</th>\n",
       "      <th>Native American/Alaskan Pct</th>\n",
       "      <th>Hispanic Pct</th>\n",
       "      <th>Asian Pct</th>\n",
       "      <th>Multi-Racial Pct</th>\n",
       "    </tr>\n",
       "  </thead>\n",
       "  <tbody>\n",
       "    <tr>\n",
       "      <th>count</th>\n",
       "      <td>529.000000</td>\n",
       "      <td>529.000000</td>\n",
       "      <td>529.000000</td>\n",
       "      <td>529.000000</td>\n",
       "      <td>529.000000</td>\n",
       "      <td>529.000000</td>\n",
       "      <td>529.000000</td>\n",
       "      <td>529.000000</td>\n",
       "    </tr>\n",
       "    <tr>\n",
       "      <th>mean</th>\n",
       "      <td>606085.069943</td>\n",
       "      <td>679.793951</td>\n",
       "      <td>9.017391</td>\n",
       "      <td>48.342533</td>\n",
       "      <td>0.194140</td>\n",
       "      <td>37.697164</td>\n",
       "      <td>3.163894</td>\n",
       "      <td>1.081096</td>\n",
       "    </tr>\n",
       "    <tr>\n",
       "      <th>std</th>\n",
       "      <td>28625.349972</td>\n",
       "      <td>1666.766415</td>\n",
       "      <td>16.485525</td>\n",
       "      <td>41.942889</td>\n",
       "      <td>0.265546</td>\n",
       "      <td>36.519871</td>\n",
       "      <td>8.013859</td>\n",
       "      <td>1.553436</td>\n",
       "    </tr>\n",
       "    <tr>\n",
       "      <th>min</th>\n",
       "      <td>400018.000000</td>\n",
       "      <td>0.000000</td>\n",
       "      <td>0.000000</td>\n",
       "      <td>0.000000</td>\n",
       "      <td>0.000000</td>\n",
       "      <td>0.000000</td>\n",
       "      <td>0.000000</td>\n",
       "      <td>0.000000</td>\n",
       "    </tr>\n",
       "    <tr>\n",
       "      <th>25%</th>\n",
       "      <td>609854.000000</td>\n",
       "      <td>43.000000</td>\n",
       "      <td>0.200000</td>\n",
       "      <td>5.000000</td>\n",
       "      <td>0.000000</td>\n",
       "      <td>2.600000</td>\n",
       "      <td>0.000000</td>\n",
       "      <td>0.200000</td>\n",
       "    </tr>\n",
       "    <tr>\n",
       "      <th>50%</th>\n",
       "      <td>610036.000000</td>\n",
       "      <td>149.000000</td>\n",
       "      <td>1.000000</td>\n",
       "      <td>35.300000</td>\n",
       "      <td>0.100000</td>\n",
       "      <td>24.000000</td>\n",
       "      <td>0.200000</td>\n",
       "      <td>0.400000</td>\n",
       "    </tr>\n",
       "    <tr>\n",
       "      <th>75%</th>\n",
       "      <td>610209.000000</td>\n",
       "      <td>479.000000</td>\n",
       "      <td>8.800000</td>\n",
       "      <td>96.300000</td>\n",
       "      <td>0.300000</td>\n",
       "      <td>76.500000</td>\n",
       "      <td>2.300000</td>\n",
       "      <td>1.300000</td>\n",
       "    </tr>\n",
       "    <tr>\n",
       "      <th>max</th>\n",
       "      <td>610573.000000</td>\n",
       "      <td>13448.000000</td>\n",
       "      <td>84.000000</td>\n",
       "      <td>100.000000</td>\n",
       "      <td>1.800000</td>\n",
       "      <td>99.500000</td>\n",
       "      <td>83.800000</td>\n",
       "      <td>10.800000</td>\n",
       "    </tr>\n",
       "  </tbody>\n",
       "</table>\n",
       "</div>"
      ],
      "text/plain": [
       "           School ID  Count of Suspension Events   White Pct  \\\n",
       "count     529.000000                  529.000000  529.000000   \n",
       "mean   606085.069943                  679.793951    9.017391   \n",
       "std     28625.349972                 1666.766415   16.485525   \n",
       "min    400018.000000                    0.000000    0.000000   \n",
       "25%    609854.000000                   43.000000    0.200000   \n",
       "50%    610036.000000                  149.000000    1.000000   \n",
       "75%    610209.000000                  479.000000    8.800000   \n",
       "max    610573.000000                13448.000000   84.000000   \n",
       "\n",
       "       African American Pct  Native American/Alaskan Pct  Hispanic Pct  \\\n",
       "count            529.000000                   529.000000    529.000000   \n",
       "mean              48.342533                     0.194140     37.697164   \n",
       "std               41.942889                     0.265546     36.519871   \n",
       "min                0.000000                     0.000000      0.000000   \n",
       "25%                5.000000                     0.000000      2.600000   \n",
       "50%               35.300000                     0.100000     24.000000   \n",
       "75%               96.300000                     0.300000     76.500000   \n",
       "max              100.000000                     1.800000     99.500000   \n",
       "\n",
       "        Asian Pct  Multi-Racial Pct  \n",
       "count  529.000000        529.000000  \n",
       "mean     3.163894          1.081096  \n",
       "std      8.013859          1.553436  \n",
       "min      0.000000          0.000000  \n",
       "25%      0.000000          0.200000  \n",
       "50%      0.200000          0.400000  \n",
       "75%      2.300000          1.300000  \n",
       "max     83.800000         10.800000  "
      ]
     },
     "execution_count": 15,
     "metadata": {},
     "output_type": "execute_result"
    }
   ],
   "source": [
    "# Organize schools by suspensions and demographics\n",
    "schools_by_suspension.sort_values(by=\"Count of Suspension Events\",ascending=False, inplace=True)\n",
    "school_suspensions_dem = pd.merge(schools_by_suspension, cps_race_data, on=\"School ID\")\n",
    "school_suspensions_dem = school_suspensions_dem[[\"Education Units\",\n",
    "                             \"School ID\",\n",
    "                             \"Count of Suspension Events\",\n",
    "                             \"Total\",\n",
    "                             \"White Pct\",\n",
    "                             \"African American Pct\",\n",
    "                             \"Native American/Alaskan Pct\",\n",
    "                             \"Hispanic Pct\",\n",
    "                             \"Asian Pct\",\n",
    "                             \"Multi-Racial Pct\"]]\n",
    "school_suspensions_dem.describe()"
   ]
  },
  {
   "cell_type": "code",
   "execution_count": 16,
   "metadata": {
    "collapsed": false
   },
   "outputs": [
    {
     "data": {
      "text/html": [
       "<div>\n",
       "<table border=\"1\" class=\"dataframe\">\n",
       "  <thead>\n",
       "    <tr style=\"text-align: right;\">\n",
       "      <th></th>\n",
       "      <th>School ID</th>\n",
       "      <th>Count of Suspension Events</th>\n",
       "      <th>White Pct</th>\n",
       "      <th>African American Pct</th>\n",
       "      <th>Native American/Alaskan Pct</th>\n",
       "      <th>Hispanic Pct</th>\n",
       "      <th>Asian Pct</th>\n",
       "      <th>Multi-Racial Pct</th>\n",
       "      <th>Black/Hispanic Pct</th>\n",
       "    </tr>\n",
       "  </thead>\n",
       "  <tbody>\n",
       "    <tr>\n",
       "      <th>count</th>\n",
       "      <td>529.000000</td>\n",
       "      <td>529.000000</td>\n",
       "      <td>529.000000</td>\n",
       "      <td>529.000000</td>\n",
       "      <td>529.000000</td>\n",
       "      <td>529.000000</td>\n",
       "      <td>529.000000</td>\n",
       "      <td>529.000000</td>\n",
       "      <td>529.000000</td>\n",
       "    </tr>\n",
       "    <tr>\n",
       "      <th>mean</th>\n",
       "      <td>606085.069943</td>\n",
       "      <td>679.793951</td>\n",
       "      <td>9.017391</td>\n",
       "      <td>48.342533</td>\n",
       "      <td>0.194140</td>\n",
       "      <td>37.697164</td>\n",
       "      <td>3.163894</td>\n",
       "      <td>1.081096</td>\n",
       "      <td>86.039698</td>\n",
       "    </tr>\n",
       "    <tr>\n",
       "      <th>std</th>\n",
       "      <td>28625.349972</td>\n",
       "      <td>1666.766415</td>\n",
       "      <td>16.485525</td>\n",
       "      <td>41.942889</td>\n",
       "      <td>0.265546</td>\n",
       "      <td>36.519871</td>\n",
       "      <td>8.013859</td>\n",
       "      <td>1.553436</td>\n",
       "      <td>22.060992</td>\n",
       "    </tr>\n",
       "    <tr>\n",
       "      <th>min</th>\n",
       "      <td>400018.000000</td>\n",
       "      <td>0.000000</td>\n",
       "      <td>0.000000</td>\n",
       "      <td>0.000000</td>\n",
       "      <td>0.000000</td>\n",
       "      <td>0.000000</td>\n",
       "      <td>0.000000</td>\n",
       "      <td>0.000000</td>\n",
       "      <td>13.600000</td>\n",
       "    </tr>\n",
       "    <tr>\n",
       "      <th>25%</th>\n",
       "      <td>609854.000000</td>\n",
       "      <td>43.000000</td>\n",
       "      <td>0.200000</td>\n",
       "      <td>5.000000</td>\n",
       "      <td>0.000000</td>\n",
       "      <td>2.600000</td>\n",
       "      <td>0.000000</td>\n",
       "      <td>0.200000</td>\n",
       "      <td>84.000000</td>\n",
       "    </tr>\n",
       "    <tr>\n",
       "      <th>50%</th>\n",
       "      <td>610036.000000</td>\n",
       "      <td>149.000000</td>\n",
       "      <td>1.000000</td>\n",
       "      <td>35.300000</td>\n",
       "      <td>0.100000</td>\n",
       "      <td>24.000000</td>\n",
       "      <td>0.200000</td>\n",
       "      <td>0.400000</td>\n",
       "      <td>97.600000</td>\n",
       "    </tr>\n",
       "    <tr>\n",
       "      <th>75%</th>\n",
       "      <td>610209.000000</td>\n",
       "      <td>479.000000</td>\n",
       "      <td>8.800000</td>\n",
       "      <td>96.300000</td>\n",
       "      <td>0.300000</td>\n",
       "      <td>76.500000</td>\n",
       "      <td>2.300000</td>\n",
       "      <td>1.300000</td>\n",
       "      <td>99.200000</td>\n",
       "    </tr>\n",
       "    <tr>\n",
       "      <th>max</th>\n",
       "      <td>610573.000000</td>\n",
       "      <td>13448.000000</td>\n",
       "      <td>84.000000</td>\n",
       "      <td>100.000000</td>\n",
       "      <td>1.800000</td>\n",
       "      <td>99.500000</td>\n",
       "      <td>83.800000</td>\n",
       "      <td>10.800000</td>\n",
       "      <td>100.000000</td>\n",
       "    </tr>\n",
       "  </tbody>\n",
       "</table>\n",
       "</div>"
      ],
      "text/plain": [
       "           School ID  Count of Suspension Events   White Pct  \\\n",
       "count     529.000000                  529.000000  529.000000   \n",
       "mean   606085.069943                  679.793951    9.017391   \n",
       "std     28625.349972                 1666.766415   16.485525   \n",
       "min    400018.000000                    0.000000    0.000000   \n",
       "25%    609854.000000                   43.000000    0.200000   \n",
       "50%    610036.000000                  149.000000    1.000000   \n",
       "75%    610209.000000                  479.000000    8.800000   \n",
       "max    610573.000000                13448.000000   84.000000   \n",
       "\n",
       "       African American Pct  Native American/Alaskan Pct  Hispanic Pct  \\\n",
       "count            529.000000                   529.000000    529.000000   \n",
       "mean              48.342533                     0.194140     37.697164   \n",
       "std               41.942889                     0.265546     36.519871   \n",
       "min                0.000000                     0.000000      0.000000   \n",
       "25%                5.000000                     0.000000      2.600000   \n",
       "50%               35.300000                     0.100000     24.000000   \n",
       "75%               96.300000                     0.300000     76.500000   \n",
       "max              100.000000                     1.800000     99.500000   \n",
       "\n",
       "        Asian Pct  Multi-Racial Pct  Black/Hispanic Pct  \n",
       "count  529.000000        529.000000          529.000000  \n",
       "mean     3.163894          1.081096           86.039698  \n",
       "std      8.013859          1.553436           22.060992  \n",
       "min      0.000000          0.000000           13.600000  \n",
       "25%      0.000000          0.200000           84.000000  \n",
       "50%      0.200000          0.400000           97.600000  \n",
       "75%      2.300000          1.300000           99.200000  \n",
       "max     83.800000         10.800000          100.000000  "
      ]
     },
     "execution_count": 16,
     "metadata": {},
     "output_type": "execute_result"
    }
   ],
   "source": [
    "# Create combined variable of Black and Hispanic means (more traditionally underrepresented/under-resourced)\n",
    "school_suspensions_dem[\"Black/Hispanic Pct\"] = school_suspensions_dem[\"African American Pct\"] + school_suspensions_dem[\"Hispanic Pct\"]\n",
    "school_suspensions_dem.describe()"
   ]
  },
  {
   "cell_type": "code",
   "execution_count": 17,
   "metadata": {
    "collapsed": false
   },
   "outputs": [
    {
     "data": {
      "text/plain": [
       "<matplotlib.collections.PathCollection at 0x7fd1d335c490>"
      ]
     },
     "execution_count": 17,
     "metadata": {},
     "output_type": "execute_result"
    },
    {
     "data": {
      "image/png": "[encoded data removed]",
      "text/plain": [
       "<matplotlib.figure.Figure at 0x7fd1d4a02490>"
      ]
     },
     "metadata": {},
     "output_type": "display_data"
    }
   ],
   "source": [
    "# Plotting schools by suspensions vs percentage Asian students\n",
    "plt.scatter(school_suspensions_dem[\"Asian Pct\"],school_suspensions_dem[\"Count of Suspension Events\"])"
   ]
  },
  {
   "cell_type": "code",
   "execution_count": 18,
   "metadata": {
    "collapsed": false
   },
   "outputs": [
    {
     "name": "stdout",
     "output_type": "stream",
     "text": [
      "Warning: CRS does not match!\n"
     ]
    },
    {
     "data": {
      "text/plain": [
       "<matplotlib.axes._subplots.AxesSubplot at 0x7fd1d436a050>"
      ]
     },
     "execution_count": 18,
     "metadata": {},
     "output_type": "execute_result"
    },
    {
     "data": {
      "image/png": "[encoded data removed]",
      "text/plain": [
       "<matplotlib.figure.Figure at 0x7fd1d3411fd0>"
      ]
     },
     "metadata": {},
     "output_type": "display_data"
    }
   ],
   "source": [
    "# Map schools in top 100 suspensions with neighborhoods\n",
    "# Not significantly different\n",
    "top_school_sus = school_suspensions_dem[:100]\n",
    "top_school_locations_suspensions = pd.merge(cps_schools, top_school_sus, left_on=\"schoolid\", right_on=\"School ID\")\n",
    "neighborhood_top_suspensions = sjoin(chi_neighborhoods, top_school_locations_suspensions)\n",
    "neighborhood_top_suspensions.plot(column='Count of Suspension Events', scheme='fisher_jenks', k=5, cmap='Purples')"
   ]
  },
  {
   "cell_type": "code",
   "execution_count": 19,
   "metadata": {
    "collapsed": false
   },
   "outputs": [
    {
     "data": {
      "text/plain": [
       "<matplotlib.collections.PathCollection at 0x7fd1d2e449d0>"
      ]
     },
     "execution_count": 19,
     "metadata": {},
     "output_type": "execute_result"
    },
    {
     "data": {
      "image/png": "[encoded data removed]",
      "text/plain": [
       "<matplotlib.figure.Figure at 0x7fd1d3376650>"
      ]
     },
     "metadata": {},
     "output_type": "display_data"
    }
   ],
   "source": [
    "# Multi-Racial pct by suspensions\n",
    "plt.scatter(school_suspensions_dem[\"Multi-Racial Pct\"],school_suspensions_dem[\"Count of Suspension Events\"])"
   ]
  },
  {
   "cell_type": "code",
   "execution_count": 20,
   "metadata": {
    "collapsed": false
   },
   "outputs": [
    {
     "data": {
      "text/html": [
       "<div>\n",
       "<table border=\"1\" class=\"dataframe\">\n",
       "  <thead>\n",
       "    <tr style=\"text-align: right;\">\n",
       "      <th></th>\n",
       "      <th>School ID</th>\n",
       "      <th>Count of Suspension Events</th>\n",
       "      <th>White Pct</th>\n",
       "      <th>African American Pct</th>\n",
       "      <th>Native American/Alaskan Pct</th>\n",
       "      <th>Hispanic Pct</th>\n",
       "      <th>Asian Pct</th>\n",
       "      <th>Multi-Racial Pct</th>\n",
       "      <th>Black/Hispanic Pct</th>\n",
       "    </tr>\n",
       "  </thead>\n",
       "  <tbody>\n",
       "    <tr>\n",
       "      <th>count</th>\n",
       "      <td>100.000000</td>\n",
       "      <td>100.000000</td>\n",
       "      <td>100.00000</td>\n",
       "      <td>100.000000</td>\n",
       "      <td>100.000000</td>\n",
       "      <td>100.000000</td>\n",
       "      <td>100.000000</td>\n",
       "      <td>100.000000</td>\n",
       "      <td>100.000000</td>\n",
       "    </tr>\n",
       "    <tr>\n",
       "      <th>mean</th>\n",
       "      <td>605771.280000</td>\n",
       "      <td>2907.000000</td>\n",
       "      <td>3.48800</td>\n",
       "      <td>65.199000</td>\n",
       "      <td>0.208000</td>\n",
       "      <td>28.599000</td>\n",
       "      <td>1.568000</td>\n",
       "      <td>0.655000</td>\n",
       "      <td>93.798000</td>\n",
       "    </tr>\n",
       "    <tr>\n",
       "      <th>std</th>\n",
       "      <td>29537.572082</td>\n",
       "      <td>2918.390853</td>\n",
       "      <td>8.04214</td>\n",
       "      <td>37.926778</td>\n",
       "      <td>0.285926</td>\n",
       "      <td>33.084048</td>\n",
       "      <td>4.236777</td>\n",
       "      <td>0.744186</td>\n",
       "      <td>11.228076</td>\n",
       "    </tr>\n",
       "    <tr>\n",
       "      <th>min</th>\n",
       "      <td>400018.000000</td>\n",
       "      <td>664.000000</td>\n",
       "      <td>0.00000</td>\n",
       "      <td>1.200000</td>\n",
       "      <td>0.000000</td>\n",
       "      <td>0.000000</td>\n",
       "      <td>0.000000</td>\n",
       "      <td>0.000000</td>\n",
       "      <td>41.600000</td>\n",
       "    </tr>\n",
       "    <tr>\n",
       "      <th>25%</th>\n",
       "      <td>609722.750000</td>\n",
       "      <td>935.500000</td>\n",
       "      <td>0.00000</td>\n",
       "      <td>23.900000</td>\n",
       "      <td>0.000000</td>\n",
       "      <td>1.750000</td>\n",
       "      <td>0.000000</td>\n",
       "      <td>0.200000</td>\n",
       "      <td>95.400000</td>\n",
       "    </tr>\n",
       "    <tr>\n",
       "      <th>50%</th>\n",
       "      <td>609790.500000</td>\n",
       "      <td>1780.500000</td>\n",
       "      <td>0.55000</td>\n",
       "      <td>91.350000</td>\n",
       "      <td>0.100000</td>\n",
       "      <td>7.150000</td>\n",
       "      <td>0.000000</td>\n",
       "      <td>0.400000</td>\n",
       "      <td>98.450000</td>\n",
       "    </tr>\n",
       "    <tr>\n",
       "      <th>75%</th>\n",
       "      <td>610244.250000</td>\n",
       "      <td>3908.250000</td>\n",
       "      <td>2.32500</td>\n",
       "      <td>97.500000</td>\n",
       "      <td>0.400000</td>\n",
       "      <td>57.300000</td>\n",
       "      <td>0.450000</td>\n",
       "      <td>0.800000</td>\n",
       "      <td>99.225000</td>\n",
       "    </tr>\n",
       "    <tr>\n",
       "      <th>max</th>\n",
       "      <td>610558.000000</td>\n",
       "      <td>13448.000000</td>\n",
       "      <td>48.40000</td>\n",
       "      <td>99.800000</td>\n",
       "      <td>1.800000</td>\n",
       "      <td>96.300000</td>\n",
       "      <td>28.700000</td>\n",
       "      <td>4.000000</td>\n",
       "      <td>100.000000</td>\n",
       "    </tr>\n",
       "  </tbody>\n",
       "</table>\n",
       "</div>"
      ],
      "text/plain": [
       "           School ID  Count of Suspension Events  White Pct  \\\n",
       "count     100.000000                  100.000000  100.00000   \n",
       "mean   605771.280000                 2907.000000    3.48800   \n",
       "std     29537.572082                 2918.390853    8.04214   \n",
       "min    400018.000000                  664.000000    0.00000   \n",
       "25%    609722.750000                  935.500000    0.00000   \n",
       "50%    609790.500000                 1780.500000    0.55000   \n",
       "75%    610244.250000                 3908.250000    2.32500   \n",
       "max    610558.000000                13448.000000   48.40000   \n",
       "\n",
       "       African American Pct  Native American/Alaskan Pct  Hispanic Pct  \\\n",
       "count            100.000000                   100.000000    100.000000   \n",
       "mean              65.199000                     0.208000     28.599000   \n",
       "std               37.926778                     0.285926     33.084048   \n",
       "min                1.200000                     0.000000      0.000000   \n",
       "25%               23.900000                     0.000000      1.750000   \n",
       "50%               91.350000                     0.100000      7.150000   \n",
       "75%               97.500000                     0.400000     57.300000   \n",
       "max               99.800000                     1.800000     96.300000   \n",
       "\n",
       "        Asian Pct  Multi-Racial Pct  Black/Hispanic Pct  \n",
       "count  100.000000        100.000000          100.000000  \n",
       "mean     1.568000          0.655000           93.798000  \n",
       "std      4.236777          0.744186           11.228076  \n",
       "min      0.000000          0.000000           41.600000  \n",
       "25%      0.000000          0.200000           95.400000  \n",
       "50%      0.000000          0.400000           98.450000  \n",
       "75%      0.450000          0.800000           99.225000  \n",
       "max     28.700000          4.000000          100.000000  "
      ]
     },
     "execution_count": 20,
     "metadata": {},
     "output_type": "execute_result"
    }
   ],
   "source": [
    "top_school_sus.describe()"
   ]
  },
  {
   "cell_type": "code",
   "execution_count": 21,
   "metadata": {
    "collapsed": false
   },
   "outputs": [
    {
     "data": {
      "text/plain": [
       "<matplotlib.collections.PathCollection at 0x7fd1d2d283d0>"
      ]
     },
     "execution_count": 21,
     "metadata": {},
     "output_type": "execute_result"
    },
    {
     "data": {
      "image/png": "[encoded data removed]",
      "text/plain": [
       "<matplotlib.figure.Figure at 0x7fd1d2e2ba90>"
      ]
     },
     "metadata": {},
     "output_type": "display_data"
    }
   ],
   "source": [
    "# Plotting combined Black/Hispanic Pct vs count suspensions\n",
    "plt.scatter(school_suspensions_dem[\"Black/Hispanic Pct\"],school_suspensions_dem[\"Count of Suspension Events\"])"
   ]
  },
  {
   "cell_type": "code",
   "execution_count": 22,
   "metadata": {
    "collapsed": false
   },
   "outputs": [
    {
     "data": {
      "text/plain": [
       "<matplotlib.collections.PathCollection at 0x7fd1d2c63550>"
      ]
     },
     "execution_count": 22,
     "metadata": {},
     "output_type": "execute_result"
    },
    {
     "data": {
      "image/png": "[encoded data removed]",
      "text/plain": [
       "<matplotlib.figure.Figure at 0x7fd1d2cdc250>"
      ]
     },
     "metadata": {},
     "output_type": "display_data"
    }
   ],
   "source": [
    "# Plotting combined column in top 100 schools\n",
    "plt.scatter(top_school_sus[\"Black/Hispanic Pct\"],top_school_sus[\"Count of Suspension Events\"])"
   ]
  },
  {
   "cell_type": "code",
   "execution_count": 23,
   "metadata": {
    "collapsed": false
   },
   "outputs": [
    {
     "data": {
      "text/plain": [
       "<matplotlib.collections.PathCollection at 0x7fd1d2ba5750>"
      ]
     },
     "execution_count": 23,
     "metadata": {},
     "output_type": "execute_result"
    },
    {
     "data": {
      "image/png": "[encoded data removed]",
      "text/plain": [
       "<matplotlib.figure.Figure at 0x7fd1d2c85250>"
      ]
     },
     "metadata": {},
     "output_type": "display_data"
    }
   ],
   "source": [
    "# Plotting combined column in top 50 schools\n",
    "plt.scatter(top_school_sus[:50][\"Black/Hispanic Pct\"],top_school_sus[:50][\"Count of Suspension Events\"])"
   ]
  },
  {
   "cell_type": "code",
   "execution_count": 24,
   "metadata": {
    "collapsed": false
   },
   "outputs": [
    {
     "data": {
      "text/plain": [
       "<matplotlib.collections.PathCollection at 0x7fd1d2ae9790>"
      ]
     },
     "execution_count": 24,
     "metadata": {},
     "output_type": "execute_result"
    },
    {
     "data": {
      "image/png": "[encoded data removed]",
      "text/plain": [
       "<matplotlib.figure.Figure at 0x7fd1d2e00950>"
      ]
     },
     "metadata": {},
     "output_type": "display_data"
    }
   ],
   "source": [
    "# Plotting combined column in top 25 schools\n",
    "plt.scatter(top_school_sus[:25][\"Black/Hispanic Pct\"],top_school_sus[:25][\"Count of Suspension Events\"])"
   ]
  },
  {
   "cell_type": "code",
   "execution_count": 25,
   "metadata": {
    "collapsed": false
   },
   "outputs": [
    {
     "data": {
      "text/html": [
       "<div>\n",
       "<table border=\"1\" class=\"dataframe\">\n",
       "  <thead>\n",
       "    <tr style=\"text-align: right;\">\n",
       "      <th></th>\n",
       "      <th>School ID</th>\n",
       "      <th>Count of Suspension Events</th>\n",
       "      <th>White Pct</th>\n",
       "      <th>African American Pct</th>\n",
       "      <th>Native American/Alaskan Pct</th>\n",
       "      <th>Hispanic Pct</th>\n",
       "      <th>Asian Pct</th>\n",
       "      <th>Multi-Racial Pct</th>\n",
       "      <th>Black/Hispanic Pct</th>\n",
       "    </tr>\n",
       "  </thead>\n",
       "  <tbody>\n",
       "    <tr>\n",
       "      <th>School ID</th>\n",
       "      <td>1.000000</td>\n",
       "      <td>-0.023015</td>\n",
       "      <td>0.056123</td>\n",
       "      <td>-0.135634</td>\n",
       "      <td>0.075450</td>\n",
       "      <td>0.117994</td>\n",
       "      <td>0.048683</td>\n",
       "      <td>0.019126</td>\n",
       "      <td>-0.062543</td>\n",
       "    </tr>\n",
       "    <tr>\n",
       "      <th>Count of Suspension Events</th>\n",
       "      <td>-0.023015</td>\n",
       "      <td>1.000000</td>\n",
       "      <td>-0.135899</td>\n",
       "      <td>0.153257</td>\n",
       "      <td>0.017214</td>\n",
       "      <td>-0.087630</td>\n",
       "      <td>-0.091262</td>\n",
       "      <td>-0.108278</td>\n",
       "      <td>0.146311</td>\n",
       "    </tr>\n",
       "    <tr>\n",
       "      <th>White Pct</th>\n",
       "      <td>0.056123</td>\n",
       "      <td>-0.135899</td>\n",
       "      <td>1.000000</td>\n",
       "      <td>-0.464314</td>\n",
       "      <td>0.179061</td>\n",
       "      <td>-0.029220</td>\n",
       "      <td>0.339904</td>\n",
       "      <td>0.692627</td>\n",
       "      <td>-0.931136</td>\n",
       "    </tr>\n",
       "    <tr>\n",
       "      <th>African American Pct</th>\n",
       "      <td>-0.135634</td>\n",
       "      <td>0.153257</td>\n",
       "      <td>-0.464314</td>\n",
       "      <td>1.000000</td>\n",
       "      <td>-0.448502</td>\n",
       "      <td>-0.850733</td>\n",
       "      <td>-0.301396</td>\n",
       "      <td>-0.298407</td>\n",
       "      <td>0.492916</td>\n",
       "    </tr>\n",
       "    <tr>\n",
       "      <th>Native American/Alaskan Pct</th>\n",
       "      <td>0.075450</td>\n",
       "      <td>0.017214</td>\n",
       "      <td>0.179061</td>\n",
       "      <td>-0.448502</td>\n",
       "      <td>1.000000</td>\n",
       "      <td>0.384269</td>\n",
       "      <td>0.146579</td>\n",
       "      <td>0.164511</td>\n",
       "      <td>-0.216582</td>\n",
       "    </tr>\n",
       "    <tr>\n",
       "      <th>Hispanic Pct</th>\n",
       "      <td>0.117994</td>\n",
       "      <td>-0.087630</td>\n",
       "      <td>-0.029220</td>\n",
       "      <td>-0.850733</td>\n",
       "      <td>0.384269</td>\n",
       "      <td>1.000000</td>\n",
       "      <td>-0.048267</td>\n",
       "      <td>-0.104058</td>\n",
       "      <td>0.037970</td>\n",
       "    </tr>\n",
       "    <tr>\n",
       "      <th>Asian Pct</th>\n",
       "      <td>0.048683</td>\n",
       "      <td>-0.091262</td>\n",
       "      <td>0.339904</td>\n",
       "      <td>-0.301396</td>\n",
       "      <td>0.146579</td>\n",
       "      <td>-0.048267</td>\n",
       "      <td>1.000000</td>\n",
       "      <td>0.388188</td>\n",
       "      <td>-0.652923</td>\n",
       "    </tr>\n",
       "    <tr>\n",
       "      <th>Multi-Racial Pct</th>\n",
       "      <td>0.019126</td>\n",
       "      <td>-0.108278</td>\n",
       "      <td>0.692627</td>\n",
       "      <td>-0.298407</td>\n",
       "      <td>0.164511</td>\n",
       "      <td>-0.104058</td>\n",
       "      <td>0.388188</td>\n",
       "      <td>1.000000</td>\n",
       "      <td>-0.739597</td>\n",
       "    </tr>\n",
       "    <tr>\n",
       "      <th>Black/Hispanic Pct</th>\n",
       "      <td>-0.062543</td>\n",
       "      <td>0.146311</td>\n",
       "      <td>-0.931136</td>\n",
       "      <td>0.492916</td>\n",
       "      <td>-0.216582</td>\n",
       "      <td>0.037970</td>\n",
       "      <td>-0.652923</td>\n",
       "      <td>-0.739597</td>\n",
       "      <td>1.000000</td>\n",
       "    </tr>\n",
       "  </tbody>\n",
       "</table>\n",
       "</div>"
      ],
      "text/plain": [
       "                             School ID  Count of Suspension Events  White Pct  \\\n",
       "School ID                     1.000000                   -0.023015   0.056123   \n",
       "Count of Suspension Events   -0.023015                    1.000000  -0.135899   \n",
       "White Pct                     0.056123                   -0.135899   1.000000   \n",
       "African American Pct         -0.135634                    0.153257  -0.464314   \n",
       "Native American/Alaskan Pct   0.075450                    0.017214   0.179061   \n",
       "Hispanic Pct                  0.117994                   -0.087630  -0.029220   \n",
       "Asian Pct                     0.048683                   -0.091262   0.339904   \n",
       "Multi-Racial Pct              0.019126                   -0.108278   0.692627   \n",
       "Black/Hispanic Pct           -0.062543                    0.146311  -0.931136   \n",
       "\n",
       "                             African American Pct  \\\n",
       "School ID                               -0.135634   \n",
       "Count of Suspension Events               0.153257   \n",
       "White Pct                               -0.464314   \n",
       "African American Pct                     1.000000   \n",
       "Native American/Alaskan Pct             -0.448502   \n",
       "Hispanic Pct                            -0.850733   \n",
       "Asian Pct                               -0.301396   \n",
       "Multi-Racial Pct                        -0.298407   \n",
       "Black/Hispanic Pct                       0.492916   \n",
       "\n",
       "                             Native American/Alaskan Pct  Hispanic Pct  \\\n",
       "School ID                                       0.075450      0.117994   \n",
       "Count of Suspension Events                      0.017214     -0.087630   \n",
       "White Pct                                       0.179061     -0.029220   \n",
       "African American Pct                           -0.448502     -0.850733   \n",
       "Native American/Alaskan Pct                     1.000000      0.384269   \n",
       "Hispanic Pct                                    0.384269      1.000000   \n",
       "Asian Pct                                       0.146579     -0.048267   \n",
       "Multi-Racial Pct                                0.164511     -0.104058   \n",
       "Black/Hispanic Pct                             -0.216582      0.037970   \n",
       "\n",
       "                             Asian Pct  Multi-Racial Pct  Black/Hispanic Pct  \n",
       "School ID                     0.048683          0.019126           -0.062543  \n",
       "Count of Suspension Events   -0.091262         -0.108278            0.146311  \n",
       "White Pct                     0.339904          0.692627           -0.931136  \n",
       "African American Pct         -0.301396         -0.298407            0.492916  \n",
       "Native American/Alaskan Pct   0.146579          0.164511           -0.216582  \n",
       "Hispanic Pct                 -0.048267         -0.104058            0.037970  \n",
       "Asian Pct                     1.000000          0.388188           -0.652923  \n",
       "Multi-Racial Pct              0.388188          1.000000           -0.739597  \n",
       "Black/Hispanic Pct           -0.652923         -0.739597            1.000000  "
      ]
     },
     "execution_count": 25,
     "metadata": {},
     "output_type": "execute_result"
    }
   ],
   "source": [
    "# Correlations\n",
    "school_suspensions_dem.corr()"
   ]
  },
  {
   "cell_type": "code",
   "execution_count": null,
   "metadata": {
    "collapsed": true
   },
   "outputs": [],
   "source": []
  }
 ],
 "metadata": {
  "kernelspec": {
   "display_name": "Python 2",
   "language": "python",
   "name": "python2"
  },
  "language_info": {
   "codemirror_mode": {
    "name": "ipython",
    "version": 2
   },
   "file_extension": ".py",
   "mimetype": "text/x-python",
   "name": "python",
   "nbconvert_exporter": "python",
   "pygments_lexer": "ipython2",
   "version": "2.7.11"
  }
 },
 "nbformat": 4,
 "nbformat_minor": 0
}
